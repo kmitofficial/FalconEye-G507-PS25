{
  "cells": [
    {
      "cell_type": "code",
      "execution_count": 1,
      "metadata": {
        "colab": {
          "base_uri": "https://localhost:8080/"
        },
        "id": "hJzhj_wNeUYw",
        "outputId": "9c98578e-5836-48e1-92e9-28f47df49e05"
      },
      "outputs": [
        {
          "name": "stdout",
          "output_type": "stream",
          "text": [
            "Defaulting to user installation because normal site-packages is not writeable\n"
          ]
        },
        {
          "name": "stderr",
          "output_type": "stream",
          "text": [
            "ERROR: Invalid requirement: '#'\n"
          ]
        },
        {
          "name": "stdout",
          "output_type": "stream",
          "text": [
            "Defaulting to user installation because normal site-packages is not writeable\n",
            "Requirement already satisfied: matplotlib in c:\\users\\hello\\appdata\\roaming\\python\\python311\\site-packages (3.10.5)\n",
            "Requirement already satisfied: timm in c:\\users\\hello\\appdata\\roaming\\python\\python311\\site-packages (1.0.19)\n",
            "Requirement already satisfied: contourpy>=1.0.1 in c:\\users\\hello\\appdata\\roaming\\python\\python311\\site-packages (from matplotlib) (1.3.3)\n",
            "Requirement already satisfied: cycler>=0.10 in c:\\programdata\\anaconda3\\lib\\site-packages (from matplotlib) (0.11.0)\n",
            "Requirement already satisfied: fonttools>=4.22.0 in c:\\programdata\\anaconda3\\lib\\site-packages (from matplotlib) (4.25.0)\n",
            "Requirement already satisfied: kiwisolver>=1.3.1 in c:\\programdata\\anaconda3\\lib\\site-packages (from matplotlib) (1.4.4)\n",
            "Requirement already satisfied: numpy>=1.23 in c:\\users\\hello\\appdata\\roaming\\python\\python311\\site-packages (from matplotlib) (2.2.6)\n",
            "Requirement already satisfied: packaging>=20.0 in c:\\programdata\\anaconda3\\lib\\site-packages (from matplotlib) (23.1)\n",
            "Requirement already satisfied: pillow>=8 in c:\\programdata\\anaconda3\\lib\\site-packages (from matplotlib) (10.2.0)\n",
            "Requirement already satisfied: pyparsing>=2.3.1 in c:\\programdata\\anaconda3\\lib\\site-packages (from matplotlib) (3.0.9)\n",
            "Requirement already satisfied: python-dateutil>=2.7 in c:\\programdata\\anaconda3\\lib\\site-packages (from matplotlib) (2.8.2)\n",
            "Requirement already satisfied: torch in c:\\users\\hello\\appdata\\roaming\\python\\python311\\site-packages (from timm) (2.8.0)\n",
            "Requirement already satisfied: torchvision in c:\\users\\hello\\appdata\\roaming\\python\\python311\\site-packages (from timm) (0.23.0)\n",
            "Requirement already satisfied: pyyaml in c:\\programdata\\anaconda3\\lib\\site-packages (from timm) (6.0.1)\n",
            "Requirement already satisfied: huggingface_hub in c:\\users\\hello\\appdata\\roaming\\python\\python311\\site-packages (from timm) (0.29.3)\n",
            "Requirement already satisfied: safetensors in c:\\users\\hello\\appdata\\roaming\\python\\python311\\site-packages (from timm) (0.5.3)\n",
            "Requirement already satisfied: six>=1.5 in c:\\programdata\\anaconda3\\lib\\site-packages (from python-dateutil>=2.7->matplotlib) (1.16.0)\n",
            "Requirement already satisfied: filelock in c:\\programdata\\anaconda3\\lib\\site-packages (from huggingface_hub->timm) (3.13.1)\n",
            "Requirement already satisfied: fsspec>=2023.5.0 in c:\\programdata\\anaconda3\\lib\\site-packages (from huggingface_hub->timm) (2023.10.0)\n",
            "Requirement already satisfied: requests in c:\\programdata\\anaconda3\\lib\\site-packages (from huggingface_hub->timm) (2.31.0)\n",
            "Requirement already satisfied: tqdm>=4.42.1 in c:\\programdata\\anaconda3\\lib\\site-packages (from huggingface_hub->timm) (4.65.0)\n",
            "Requirement already satisfied: typing-extensions>=3.7.4.3 in c:\\users\\hello\\appdata\\roaming\\python\\python311\\site-packages (from huggingface_hub->timm) (4.14.1)\n",
            "Requirement already satisfied: sympy>=1.13.3 in c:\\users\\hello\\appdata\\roaming\\python\\python311\\site-packages (from torch->timm) (1.14.0)\n",
            "Requirement already satisfied: networkx in c:\\programdata\\anaconda3\\lib\\site-packages (from torch->timm) (3.1)\n",
            "Requirement already satisfied: jinja2 in c:\\programdata\\anaconda3\\lib\\site-packages (from torch->timm) (3.1.3)\n",
            "Requirement already satisfied: mpmath<1.4,>=1.1.0 in c:\\programdata\\anaconda3\\lib\\site-packages (from sympy>=1.13.3->torch->timm) (1.3.0)\n",
            "Requirement already satisfied: colorama in c:\\programdata\\anaconda3\\lib\\site-packages (from tqdm>=4.42.1->huggingface_hub->timm) (0.4.6)\n",
            "Requirement already satisfied: MarkupSafe>=2.0 in c:\\programdata\\anaconda3\\lib\\site-packages (from jinja2->torch->timm) (2.1.3)\n",
            "Requirement already satisfied: charset-normalizer<4,>=2 in c:\\programdata\\anaconda3\\lib\\site-packages (from requests->huggingface_hub->timm) (2.0.4)\n",
            "Requirement already satisfied: idna<4,>=2.5 in c:\\programdata\\anaconda3\\lib\\site-packages (from requests->huggingface_hub->timm) (3.4)\n",
            "Requirement already satisfied: urllib3<3,>=1.21.1 in c:\\programdata\\anaconda3\\lib\\site-packages (from requests->huggingface_hub->timm) (2.0.7)\n",
            "Requirement already satisfied: certifi>=2017.4.17 in c:\\programdata\\anaconda3\\lib\\site-packages (from requests->huggingface_hub->timm) (2024.6.2)\n",
            "Defaulting to user installation because normal site-packages is not writeable\n",
            "Collecting git+https://github.com/facebookresearch/segment-anything.git\n",
            "  Cloning https://github.com/facebookresearch/segment-anything.git to c:\\users\\hello\\appdata\\local\\temp\\pip-req-build-9d_glsd_\n",
            "  Resolved https://github.com/facebookresearch/segment-anything.git to commit dca509fe793f601edb92606367a655c15ac00fdf\n",
            "  Preparing metadata (setup.py): started\n",
            "  Preparing metadata (setup.py): finished with status 'done'\n"
          ]
        },
        {
          "name": "stderr",
          "output_type": "stream",
          "text": [
            "  Running command git clone --filter=blob:none --quiet https://github.com/facebookresearch/segment-anything.git 'C:\\Users\\Hello\\AppData\\Local\\Temp\\pip-req-build-9d_glsd_'\n"
          ]
        },
        {
          "name": "stdout",
          "output_type": "stream",
          "text": [
            "Defaulting to user installation because normal site-packages is not writeable\n",
            "Collecting git+https://github.com/openai/CLIP.git\n",
            "  Cloning https://github.com/openai/CLIP.git to c:\\users\\hello\\appdata\\local\\temp\\pip-req-build-lbtl__lq\n",
            "  Resolved https://github.com/openai/CLIP.git to commit dcba3cb2e2827b402d2701e7e1c7d9fed8a20ef1\n",
            "  Preparing metadata (setup.py): started\n",
            "  Preparing metadata (setup.py): finished with status 'done'\n",
            "Requirement already satisfied: ftfy in c:\\users\\hello\\appdata\\roaming\\python\\python311\\site-packages (6.3.1)\n",
            "Requirement already satisfied: regex in c:\\programdata\\anaconda3\\lib\\site-packages (2023.10.3)\n",
            "Requirement already satisfied: packaging in c:\\programdata\\anaconda3\\lib\\site-packages (from clip==1.0) (23.1)\n",
            "Requirement already satisfied: tqdm in c:\\programdata\\anaconda3\\lib\\site-packages (from clip==1.0) (4.65.0)\n",
            "Requirement already satisfied: torch in c:\\users\\hello\\appdata\\roaming\\python\\python311\\site-packages (from clip==1.0) (2.8.0)\n",
            "Requirement already satisfied: torchvision in c:\\users\\hello\\appdata\\roaming\\python\\python311\\site-packages (from clip==1.0) (0.23.0)\n",
            "Requirement already satisfied: wcwidth in c:\\programdata\\anaconda3\\lib\\site-packages (from ftfy) (0.2.5)\n",
            "Requirement already satisfied: filelock in c:\\programdata\\anaconda3\\lib\\site-packages (from torch->clip==1.0) (3.13.1)\n",
            "Requirement already satisfied: typing-extensions>=4.10.0 in c:\\users\\hello\\appdata\\roaming\\python\\python311\\site-packages (from torch->clip==1.0) (4.14.1)\n",
            "Requirement already satisfied: sympy>=1.13.3 in c:\\users\\hello\\appdata\\roaming\\python\\python311\\site-packages (from torch->clip==1.0) (1.14.0)\n",
            "Requirement already satisfied: networkx in c:\\programdata\\anaconda3\\lib\\site-packages (from torch->clip==1.0) (3.1)\n",
            "Requirement already satisfied: jinja2 in c:\\programdata\\anaconda3\\lib\\site-packages (from torch->clip==1.0) (3.1.3)\n",
            "Requirement already satisfied: fsspec in c:\\programdata\\anaconda3\\lib\\site-packages (from torch->clip==1.0) (2023.10.0)\n",
            "Requirement already satisfied: numpy in c:\\users\\hello\\appdata\\roaming\\python\\python311\\site-packages (from torchvision->clip==1.0) (2.2.6)\n",
            "Requirement already satisfied: pillow!=8.3.*,>=5.3.0 in c:\\programdata\\anaconda3\\lib\\site-packages (from torchvision->clip==1.0) (10.2.0)\n",
            "Requirement already satisfied: colorama in c:\\programdata\\anaconda3\\lib\\site-packages (from tqdm->clip==1.0) (0.4.6)\n",
            "Requirement already satisfied: mpmath<1.4,>=1.1.0 in c:\\programdata\\anaconda3\\lib\\site-packages (from sympy>=1.13.3->torch->clip==1.0) (1.3.0)\n",
            "Requirement already satisfied: MarkupSafe>=2.0 in c:\\programdata\\anaconda3\\lib\\site-packages (from jinja2->torch->clip==1.0) (2.1.3)\n"
          ]
        },
        {
          "name": "stderr",
          "output_type": "stream",
          "text": [
            "  Running command git clone --filter=blob:none --quiet https://github.com/openai/CLIP.git 'C:\\Users\\Hello\\AppData\\Local\\Temp\\pip-req-build-lbtl__lq'\n"
          ]
        },
        {
          "name": "stdout",
          "output_type": "stream",
          "text": [
            "Defaulting to user installation because normal site-packages is not writeable\n",
            "Collecting opencv-contrib-python\n",
            "  Using cached opencv_contrib_python-4.12.0.88-cp37-abi3-win_amd64.whl.metadata (20 kB)\n",
            "Requirement already satisfied: numpy<2.3.0,>=2 in c:\\users\\hello\\appdata\\roaming\\python\\python311\\site-packages (from opencv-contrib-python) (2.2.6)\n",
            "Using cached opencv_contrib_python-4.12.0.88-cp37-abi3-win_amd64.whl (45.3 MB)\n",
            "Installing collected packages: opencv-contrib-python\n",
            "Successfully installed opencv-contrib-python-4.12.0.88\n"
          ]
        }
      ],
      "source": [
        "# 1. Core PyTorch first\n",
        "!pip install torch torchvision --index-url https://download.pytorch.org/whl/cu118  # (change cu118 if using CPU or other CUDA)\n",
        "\n",
        "# 2. Utility libs\n",
        "!pip install matplotlib timm\n",
        "\n",
        "# 3. Segment Anything\n",
        "!pip install git+https://github.com/facebookresearch/segment-anything.git\n",
        "\n",
        "# 4. CLIP\n",
        "!pip install git+https://github.com/openai/CLIP.git ftfy regex\n",
        "\n",
        "# 5. OpenCV (with contrib modules for tracker)\n",
        "!pip install opencv-contrib-python\n",
        "\n"
      ]
    },
    {
      "cell_type": "code",
      "execution_count": 3,
      "metadata": {},
      "outputs": [],
      "source": [
        "import os\n",
        "import cv2\n",
        "import numpy as np\n",
        "import torch\n",
        "import timm\n",
        "from segment_anything import sam_model_registry, SamPredictor\n"
      ]
    },
    {
      "cell_type": "code",
      "execution_count": 5,
      "metadata": {
        "colab": {
          "base_uri": "https://localhost:8080/"
        },
        "id": "XDkZprEhn7gq",
        "outputId": "9d2ed40c-d6f2-4460-a44e-e6ffe537a908"
      },
      "outputs": [
        {
          "name": "stderr",
          "output_type": "stream",
          "text": [
            "  % Total    % Received % Xferd  Average Speed   Time    Time     Time  Current\n",
            "                                 Dload  Upload   Total   Spent    Left  Speed\n",
            "\n",
            "  0     0    0     0    0     0      0      0 --:--:-- --:--:-- --:--:--     0\n",
            "  0  357M    0     0    0     0      0      0 --:--:-- --:--:-- --:--:--     0\n",
            "  1  357M    1 4122k    0     0  3222k      0  0:01:53  0:00:01  0:01:52 3274k\n",
            "  1  357M    1 7290k    0     0  3206k      0  0:01:54  0:00:02  0:01:52 3236k\n",
            "  2  357M    2 10.1M    0     0  2991k      0  0:02:02  0:00:03  0:01:59 3009k\n",
            "  3  357M    3 12.3M    0     0  2952k      0  0:02:04  0:00:04  0:02:00 2966k\n",
            "  4  357M    4 15.2M    0     0  2967k      0  0:02:03  0:00:05  0:01:58 3161k\n",
            "  5  357M    5 18.2M    0     0  2973k      0  0:02:03  0:00:06  0:01:57 2909k\n",
            "  6  357M    6 22.0M    0     0  3104k      0  0:01:57  0:00:07  0:01:50 3058k\n",
            "  7  357M    7 25.9M    0     0  3208k      0  0:01:54  0:00:08  0:01:46 3363k\n",
            "  8  357M    8 28.7M    0     0  3171k      0  0:01:55  0:00:09  0:01:46 3359k\n",
            "  9  357M    9 34.1M    0     0  3409k      0  0:01:47  0:00:10  0:01:37 3875k\n",
            " 11  357M   11 39.5M    0     0  3566k      0  0:01:42  0:00:11  0:01:31 4299k\n",
            " 11  357M   11 42.2M    0     0  3527k      0  0:01:43  0:00:12  0:01:31 4146k\n",
            " 13  357M   13 47.7M    0     0  3676k      0  0:01:39  0:00:13  0:01:26 4449k\n",
            " 14  357M   14 53.6M    0     0  3843k      0  0:01:35  0:00:14  0:01:21 5084k\n",
            " 15  357M   15 56.7M    0     0  3806k      0  0:01:36  0:00:15  0:01:21 4623k\n",
            " 17  357M   17 61.2M    0     0  3854k      0  0:01:35  0:00:16  0:01:19 4516k\n",
            " 18  357M   18 66.9M    0     0  3971k      0  0:01:32  0:00:17  0:01:15 5059k\n",
            " 19  357M   19 69.8M    0     0  3912k      0  0:01:33  0:00:18  0:01:15 4541k\n",
            " 21  357M   21 75.4M    0     0  4008k      0  0:01:31  0:00:19  0:01:12 4484k\n",
            " 22  357M   22 81.3M    0     0  4108k      0  0:01:29  0:00:20  0:01:09 5032k\n",
            " 24  357M   24 87.1M    0     0  4193k      0  0:01:27  0:00:21  0:01:06 5299k\n",
            " 26  357M   26 93.0M    0     0  4276k      0  0:01:25  0:00:22  0:01:03 5331k\n",
            " 27  357M   27 98.8M    0     0  4349k      0  0:01:24  0:00:23  0:01:01 5947k\n",
            " 29  357M   29  105M    0     0  4369k      0  0:01:23  0:00:24  0:00:59 5656k\n",
            " 30  357M   30  108M    0     0  4377k      0  0:01:23  0:00:25  0:00:58 5468k\n",
            " 31  357M   31  113M    0     0  4435k      0  0:01:22  0:00:26  0:00:56 5463k\n",
            " 33  357M   33  119M    0     0  4475k      0  0:01:21  0:00:27  0:00:54 5362k\n",
            " 34  357M   34  124M    0     0  4507k      0  0:01:21  0:00:28  0:00:53 5243k\n",
            " 36  357M   36  129M    0     0  4529k      0  0:01:20  0:00:29  0:00:51 5389k\n",
            " 37  357M   37  135M    0     0  4573k      0  0:01:20  0:00:30  0:00:50 5563k\n",
            " 38  357M   38  138M    0     0  4528k      0  0:01:20  0:00:31  0:00:49 5014k\n",
            " 40  357M   40  143M    0     0  4551k      0  0:01:20  0:00:32  0:00:48 4967k\n",
            " 41  357M   41  149M    0     0  4596k      0  0:01:19  0:00:33  0:00:46 5098k\n",
            " 43  357M   43  155M    0     0  4641k      0  0:01:18  0:00:34  0:00:44 5296k\n",
            " 45  357M   45  161M    0     0  4677k      0  0:01:18  0:00:35  0:00:43 5303k\n",
            " 46  357M   46  166M    0     0  4700k      0  0:01:17  0:00:36  0:00:41 5775k\n",
            " 47  357M   47  170M    0     0  4671k      0  0:01:18  0:00:37  0:00:41 5446k\n",
            " 49  357M   49  175M    0     0  4690k      0  0:01:18  0:00:38  0:00:40 5316k\n",
            " 50  357M   50  180M    0     0  4715k      0  0:01:17  0:00:39  0:00:38 5225k\n",
            " 51  357M   51  185M    0     0  4725k      0  0:01:17  0:00:40  0:00:37 5069k\n",
            " 53  357M   53  191M    0     0  4743k      0  0:01:17  0:00:41  0:00:36 5055k\n",
            " 54  357M   54  196M    0     0  4764k      0  0:01:16  0:00:42  0:00:34 5458k\n",
            " 56  357M   56  201M    0     0  4762k      0  0:01:16  0:00:43  0:00:33 5313k\n",
            " 57  357M   57  204M    0     0  4702k      0  0:01:17  0:00:44  0:00:33 4601k\n",
            " 57  357M   57  207M    0     0  4682k      0  0:01:18  0:00:45  0:00:33 4331k\n",
            " 59  357M   59  212M    0     0  4698k      0  0:01:17  0:00:46  0:00:31 4331k\n",
            " 60  357M   60  216M    0     0  4695k      0  0:01:18  0:00:47  0:00:31 4107k\n",
            " 62  357M   62  222M    0     0  4722k      0  0:01:17  0:00:48  0:00:29 4379k\n",
            " 63  357M   63  228M    0     0  4744k      0  0:01:17  0:00:49  0:00:28 5140k\n",
            " 65  357M   65  234M    0     0  4766k      0  0:01:16  0:00:50  0:00:26 5529k\n",
            " 66  357M   66  239M    0     0  4783k      0  0:01:16  0:00:51  0:00:25 5570k\n",
            " 67  357M   67  242M    0     0  4754k      0  0:01:17  0:00:52  0:00:25 5311k\n",
            " 69  357M   69  247M    0     0  4761k      0  0:01:16  0:00:53  0:00:23 5136k\n",
            " 70  357M   70  252M    0     0  4766k      0  0:01:16  0:00:54  0:00:22 4983k\n",
            " 71  357M   71  256M    0     0  4753k      0  0:01:17  0:00:55  0:00:22 4625k\n",
            " 72  357M   72  260M    0     0  4741k      0  0:01:17  0:00:56  0:00:21 4311k\n",
            " 74  357M   74  266M    0     0  4763k      0  0:01:16  0:00:57  0:00:19 4855k\n",
            " 75  357M   75  269M    0     0  4738k      0  0:01:17  0:00:58  0:00:19 4486k\n",
            " 77  357M   77  275M    0     0  4762k      0  0:01:16  0:00:59  0:00:17 4709k\n",
            " 78  357M   78  281M    0     0  4786k      0  0:01:16  0:01:00  0:00:16 5139k\n",
            " 80  357M   80  287M    0     0  4811k      0  0:01:16  0:01:01  0:00:15 5594k\n",
            " 82  357M   82  293M    0     0  4832k      0  0:01:15  0:01:02  0:00:13 5631k\n",
            " 82  357M   82  296M    0     0  4792k      0  0:01:16  0:01:03  0:00:13 5423k\n",
            " 84  357M   84  302M    0     0  4813k      0  0:01:16  0:01:04  0:00:12 5428k\n",
            " 86  357M   86  308M    0     0  4834k      0  0:01:15  0:01:05  0:00:10 5423k\n",
            " 87  357M   87  314M    0     0  4853k      0  0:01:15  0:01:06  0:00:09 5375k\n",
            " 89  357M   89  320M    0     0  4873k      0  0:01:15  0:01:07  0:00:08 5372k\n",
            " 91  357M   91  326M    0     0  4892k      0  0:01:14  0:01:08  0:00:06 6160k\n",
            " 92  357M   92  331M    0     0  4906k      0  0:01:14  0:01:09  0:00:05 6098k\n",
            " 94  357M   94  337M    0     0  4919k      0  0:01:14  0:01:10  0:00:04 6025k\n",
            " 95  357M   95  341M    0     0  4899k      0  0:01:14  0:01:11  0:00:03 5501k\n",
            " 96  357M   96  346M    0     0  4911k      0  0:01:14  0:01:12  0:00:02 5423k\n",
            " 98  357M   98  352M    0     0  4926k      0  0:01:14  0:01:13  0:00:01 5399k\n",
            "100  357M  100  357M    0     0  4937k      0  0:01:14  0:01:14 --:--:-- 5367k\n"
          ]
        }
      ],
      "source": [
        "!curl.exe -L \"https://dl.fbaipublicfiles.com/segment_anything/sam_vit_b_01ec64.pth\" -o \"sam_vit_b.pth\"\n",
        "does the big code"
      ]
    },
    {
      "cell_type": "code",
      "execution_count": 7,
      "metadata": {
        "colab": {
          "base_uri": "https://localhost:8080/"
        },
        "id": "boK67lB_rPmR",
        "outputId": "3e0dbe24-0897-4368-8a8a-63ecb4574a79"
      },
      "outputs": [
        {
          "name": "stdout",
          "output_type": "stream",
          "text": [
            "True\n"
          ]
        }
      ],
      "source": [
        "import os\n",
        "print(os.path.exists(\"sam_vit_b.pth\"))  # Should be True\n"
      ]
    },
    {
      "cell_type": "code",
      "execution_count": 6,
      "metadata": {
        "id": "hHxIu7W2fCJl"
      },
      "outputs": [],
      "source": [
        "device = \"cuda\" if torch.cuda.is_available() else \"cpu\"\n",
        "\n",
        "# load model (point to the checkpoint you downloaded)\n",
        "sam = sam_model_registry[\"vit_b\"](checkpoint=\"sam_vit_b.pth\")\n",
        "sam.to(device)\n",
        "predictor = SamPredictor(sam)"
      ]
    },
    {
      "cell_type": "code",
      "execution_count": null,
      "metadata": {
        "id": "CoVcvi-Or_K7"
      },
      "outputs": [],
      "source": [
        "VIDEO_SRC = \"C:\\\\Users\\\\Hello\\\\Downloads\\\\184734-873923034_small.mp4\"\n",
        "# open video\n",
        "cap = cv2.VideoCapture(VIDEO_SRC)\n",
        "if not cap.isOpened():\n",
        "    print(\"Cannot open video\")\n",
        "    exit()\n",
        "\n",
        "# get first frame for click\n",
        "ret, first_frame = cap.read()\n",
        "if not ret:\n",
        "    print(\"Cannot read first frame\")\n",
        "    exit()\n",
        "\n",
        "click_point = None\n",
        "def mouse_click(event, x, y, flags, param):\n",
        "    global click_point\n",
        "    if event == cv2.EVENT_LBUTTONDOWN:\n",
        "        click_point = (x, y)\n",
        "\n",
        "cv2.namedWindow(\"Click to select object\")\n",
        "cv2.setMouseCallback(\"Click to select object\", mouse_click)\n",
        "while True:\n",
        "    disp = first_frame.copy()\n",
        "    if click_point is not None:\n",
        "        cv2.circle(disp, click_point, 5, (0, 255, 255), -1)\n",
        "    cv2.putText(disp, \"Click object, then press ENTER\",\n",
        "                (20, 30), cv2.FONT_HERSHEY_SIMPLEX, 0.8, (0, 255, 0), 2)\n",
        "    cv2.imshow(\"Click to select object\", disp)\n",
        "    key = cv2.waitKey(1) & 0xFF\n",
        "    if key in [13, 10]:  # Enter\n",
        "        break\n",
        "cv2.destroyWindow(\"Click to select object\")\n",
        "\n",
        "if click_point is None:\n",
        "    print(\"No click point given\")\n",
        "    exit()\n",
        "\n",
        "# --- find mask in first frame ---\n",
        "img_rgb = cv2.cvtColor(first_frame, cv2.COLOR_BGR2RGB)\n",
        "predictor.set_image(img_rgb)\n",
        "\n",
        "point_coords = np.array([click_point])\n",
        "point_labels = np.array([1])  # foreground\n",
        "\n",
        "masks, scores, _ = predictor.predict(\n",
        "    point_coords=point_coords,\n",
        "    point_labels=point_labels,\n",
        "    multimask_output=True,\n",
        ")\n",
        "\n",
        "# pick the mask that contains the click\n",
        "selected_mask = None\n",
        "for m in masks:\n",
        "    if m[click_point[1], click_point[0]]:  # y,x indexing\n",
        "        selected_mask = m\n",
        "        break\n",
        "\n",
        "if selected_mask is None:\n",
        "    print(\"No mask contains the clicked point\")\n",
        "    exit()\n",
        "\n",
        "# get bounding box from mask\n",
        "ys, xs = np.where(selected_mask)\n",
        "x1, y1, x2, y2 = xs.min(), ys.min(), xs.max(), ys.max()\n",
        "init_bbox = (x1, y1, x2 - x1, y2 - y1)  # (x, y, w, h)\n",
        "\n",
        "# initialize tracker\n",
        "if hasattr(cv2, \"legacy\"):\n",
        "    tracker = cv2.legacy.TrackerCSRT_create()\n",
        "else:\n",
        "    tracker = cv2.TrackerCSRT_create()\n",
        "tracker.init(first_frame, init_bbox)\n",
        "\n",
        "# --- process video frame-by-frame ---\n",
        "while True:\n",
        "    ret, frame = cap.read()\n",
        "    if not ret:\n",
        "        break\n",
        "\n",
        "    # update tracker\n",
        "    ok, box = tracker.update(frame)\n",
        "    if not ok:\n",
        "        cv2.putText(frame, \"Tracking lost\", (20, 30),\n",
        "                    cv2.FONT_HERSHEY_SIMPLEX, 0.8, (0, 0, 255), 2)\n",
        "        cv2.imshow(\"SAM Object Tracking\", frame)\n",
        "        if cv2.waitKey(1) & 0xFF == 27:\n",
        "            break\n",
        "        continue\n",
        "\n",
        "    x, y, w, h = [int(v) for v in box]\n",
        "    bbox_center = (x + w // 2, y + h // 2)\n",
        "\n",
        "    # crop region for SAM\n",
        "    crop_rgb = cv2.cvtColor(frame[y:y+h, x:x+w], cv2.COLOR_BGR2RGB)\n",
        "    predictor.set_image(crop_rgb)\n",
        "\n",
        "    # use a point prompt at the bbox center (relative to crop)\n",
        "    rel_point = np.array([[w // 2, h // 2]])\n",
        "    rel_label = np.array([1])\n",
        "\n",
        "    masks, _, _ = predictor.predict(\n",
        "        point_coords=rel_point,\n",
        "        point_labels=rel_label,\n",
        "        multimask_output=True,\n",
        "    )\n",
        "\n",
        "    # pick mask containing point\n",
        "    obj_mask = None\n",
        "    for m in masks:\n",
        "        if m[h // 2, w // 2]:\n",
        "            obj_mask = m\n",
        "            break\n",
        "\n",
        "    # draw mask in full-frame coordinates\n",
        "    if obj_mask is not None:\n",
        "        mask_full = np.zeros(frame.shape[:2], dtype=np.uint8)\n",
        "        mask_full[y:y+h, x:x+w] = obj_mask.astype(np.uint8)\n",
        "        contours, _ = cv2.findContours(mask_full, cv2.RETR_EXTERNAL, cv2.CHAIN_APPROX_SIMPLE)\n",
        "        cv2.drawContours(frame, contours, -1, (0, 0, 255), 2)\n",
        "\n",
        "    # draw tracking bbox\n",
        "    cv2.rectangle(frame, (x, y), (x + w, y + h), (0, 255, 0), 2)\n",
        "    cv2.circle(frame, bbox_center, 4, (0, 255, 0), -1)\n",
        "\n",
        "    cv2.imshow(\"SAM Object Tracking\", frame)\n",
        "    if cv2.waitKey(1) & 0xFF == 27:  # ESC\n",
        "        break\n",
        "\n",
        "cap.release()\n",
        "cv2.destroyAllWindows()"
      ]
    }
  ],
  "metadata": {
    "colab": {
      "provenance": []
    },
    "kernelspec": {
      "display_name": "Python 3 (ipykernel)",
      "language": "python",
      "name": "python3"
    },
    "language_info": {
      "codemirror_mode": {
        "name": "ipython",
        "version": 3
      },
      "file_extension": ".py",
      "mimetype": "text/x-python",
      "name": "python",
      "nbconvert_exporter": "python",
      "pygments_lexer": "ipython3",
      "version": "3.11.7"
    }
  },
  "nbformat": 4,
  "nbformat_minor": 0
}
