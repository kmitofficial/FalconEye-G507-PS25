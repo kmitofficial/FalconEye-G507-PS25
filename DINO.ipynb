{
  "cells": [
    {
      "cell_type": "code",
      "execution_count": null,
      "metadata": {
        "colab": {
          "base_uri": "https://localhost:8080/"
        },
        "id": "hJzhj_wNeUYw",
        "outputId": "9c98578e-5836-48e1-92e9-28f47df49e05"
      },
      "outputs": [
        {
          "name": "stdout",
          "output_type": "stream",
          "text": [
            "Defaulting to user installation because normal site-packages is not writeable\n",
            "Looking in indexes: https://download.pytorch.org/whl/cu118\n",
            "Requirement already satisfied: torch in c:\\users\\hello\\appdata\\roaming\\python\\python311\\site-packages (2.8.0)\n",
            "Requirement already satisfied: torchvision in c:\\users\\hello\\appdata\\roaming\\python\\python311\\site-packages (0.23.0)\n",
            "Requirement already satisfied: filelock in c:\\programdata\\anaconda3\\lib\\site-packages (from torch) (3.13.1)\n",
            "Requirement already satisfied: typing-extensions>=4.10.0 in c:\\users\\hello\\appdata\\roaming\\python\\python311\\site-packages (from torch) (4.14.1)\n",
            "Requirement already satisfied: sympy>=1.13.3 in c:\\users\\hello\\appdata\\roaming\\python\\python311\\site-packages (from torch) (1.14.0)\n",
            "Requirement already satisfied: networkx in c:\\programdata\\anaconda3\\lib\\site-packages (from torch) (3.1)\n",
            "Requirement already satisfied: jinja2 in c:\\programdata\\anaconda3\\lib\\site-packages (from torch) (3.1.3)\n",
            "Requirement already satisfied: fsspec in c:\\programdata\\anaconda3\\lib\\site-packages (from torch) (2023.10.0)\n",
            "Requirement already satisfied: numpy in c:\\users\\hello\\appdata\\roaming\\python\\python311\\site-packages (from torchvision) (2.2.6)\n",
            "Requirement already satisfied: pillow!=8.3.*,>=5.3.0 in c:\\programdata\\anaconda3\\lib\\site-packages (from torchvision) (10.2.0)\n",
            "Requirement already satisfied: mpmath<1.4,>=1.1.0 in c:\\programdata\\anaconda3\\lib\\site-packages (from sympy>=1.13.3->torch) (1.3.0)\n",
            "Requirement already satisfied: MarkupSafe>=2.0 in c:\\programdata\\anaconda3\\lib\\site-packages (from jinja2->torch) (2.1.3)\n",
            "Defaulting to user installation because normal site-packages is not writeable\n",
            "Requirement already satisfied: matplotlib in c:\\users\\hello\\appdata\\roaming\\python\\python311\\site-packages (3.10.5)\n",
            "Requirement already satisfied: timm in c:\\users\\hello\\appdata\\roaming\\python\\python311\\site-packages (1.0.19)\n",
            "Requirement already satisfied: contourpy>=1.0.1 in c:\\users\\hello\\appdata\\roaming\\python\\python311\\site-packages (from matplotlib) (1.3.3)\n",
            "Requirement already satisfied: cycler>=0.10 in c:\\programdata\\anaconda3\\lib\\site-packages (from matplotlib) (0.11.0)\n",
            "Requirement already satisfied: fonttools>=4.22.0 in c:\\programdata\\anaconda3\\lib\\site-packages (from matplotlib) (4.25.0)\n",
            "Requirement already satisfied: kiwisolver>=1.3.1 in c:\\programdata\\anaconda3\\lib\\site-packages (from matplotlib) (1.4.4)\n",
            "Requirement already satisfied: numpy>=1.23 in c:\\users\\hello\\appdata\\roaming\\python\\python311\\site-packages (from matplotlib) (2.2.6)\n",
            "Requirement already satisfied: packaging>=20.0 in c:\\programdata\\anaconda3\\lib\\site-packages (from matplotlib) (23.1)\n",
            "Requirement already satisfied: pillow>=8 in c:\\programdata\\anaconda3\\lib\\site-packages (from matplotlib) (10.2.0)\n",
            "Requirement already satisfied: pyparsing>=2.3.1 in c:\\programdata\\anaconda3\\lib\\site-packages (from matplotlib) (3.0.9)\n",
            "Requirement already satisfied: python-dateutil>=2.7 in c:\\programdata\\anaconda3\\lib\\site-packages (from matplotlib) (2.8.2)\n",
            "Requirement already satisfied: torch in c:\\users\\hello\\appdata\\roaming\\python\\python311\\site-packages (from timm) (2.8.0)\n",
            "Requirement already satisfied: torchvision in c:\\users\\hello\\appdata\\roaming\\python\\python311\\site-packages (from timm) (0.23.0)\n",
            "Requirement already satisfied: pyyaml in c:\\programdata\\anaconda3\\lib\\site-packages (from timm) (6.0.1)\n",
            "Requirement already satisfied: huggingface_hub in c:\\users\\hello\\appdata\\roaming\\python\\python311\\site-packages (from timm) (0.29.3)\n",
            "Requirement already satisfied: safetensors in c:\\users\\hello\\appdata\\roaming\\python\\python311\\site-packages (from timm) (0.5.3)\n",
            "Requirement already satisfied: six>=1.5 in c:\\programdata\\anaconda3\\lib\\site-packages (from python-dateutil>=2.7->matplotlib) (1.16.0)\n",
            "Requirement already satisfied: filelock in c:\\programdata\\anaconda3\\lib\\site-packages (from huggingface_hub->timm) (3.13.1)\n",
            "Requirement already satisfied: fsspec>=2023.5.0 in c:\\programdata\\anaconda3\\lib\\site-packages (from huggingface_hub->timm) (2023.10.0)\n",
            "Requirement already satisfied: requests in c:\\programdata\\anaconda3\\lib\\site-packages (from huggingface_hub->timm) (2.31.0)\n",
            "Requirement already satisfied: tqdm>=4.42.1 in c:\\programdata\\anaconda3\\lib\\site-packages (from huggingface_hub->timm) (4.65.0)\n",
            "Requirement already satisfied: typing-extensions>=3.7.4.3 in c:\\users\\hello\\appdata\\roaming\\python\\python311\\site-packages (from huggingface_hub->timm) (4.14.1)\n",
            "Requirement already satisfied: sympy>=1.13.3 in c:\\users\\hello\\appdata\\roaming\\python\\python311\\site-packages (from torch->timm) (1.14.0)\n",
            "Requirement already satisfied: networkx in c:\\programdata\\anaconda3\\lib\\site-packages (from torch->timm) (3.1)\n",
            "Requirement already satisfied: jinja2 in c:\\programdata\\anaconda3\\lib\\site-packages (from torch->timm) (3.1.3)\n",
            "Requirement already satisfied: mpmath<1.4,>=1.1.0 in c:\\programdata\\anaconda3\\lib\\site-packages (from sympy>=1.13.3->torch->timm) (1.3.0)\n",
            "Requirement already satisfied: colorama in c:\\programdata\\anaconda3\\lib\\site-packages (from tqdm>=4.42.1->huggingface_hub->timm) (0.4.6)\n",
            "Requirement already satisfied: MarkupSafe>=2.0 in c:\\programdata\\anaconda3\\lib\\site-packages (from jinja2->torch->timm) (2.1.3)\n",
            "Requirement already satisfied: charset-normalizer<4,>=2 in c:\\programdata\\anaconda3\\lib\\site-packages (from requests->huggingface_hub->timm) (2.0.4)\n",
            "Requirement already satisfied: idna<4,>=2.5 in c:\\programdata\\anaconda3\\lib\\site-packages (from requests->huggingface_hub->timm) (3.4)\n",
            "Requirement already satisfied: urllib3<3,>=1.21.1 in c:\\programdata\\anaconda3\\lib\\site-packages (from requests->huggingface_hub->timm) (2.0.7)\n",
            "Requirement already satisfied: certifi>=2017.4.17 in c:\\programdata\\anaconda3\\lib\\site-packages (from requests->huggingface_hub->timm) (2024.6.2)\n",
            "Defaulting to user installation because normal site-packages is not writeable\n",
            "Collecting git+https://github.com/facebookresearch/segment-anything.git\n",
            "  Cloning https://github.com/facebookresearch/segment-anything.git to c:\\users\\hello\\appdata\\local\\temp\\pip-req-build-pzn1l2pd\n",
            "  Resolved https://github.com/facebookresearch/segment-anything.git to commit dca509fe793f601edb92606367a655c15ac00fdf\n",
            "  Preparing metadata (setup.py): started\n",
            "  Preparing metadata (setup.py): finished with status 'done'\n"
          ]
        },
        {
          "name": "stderr",
          "output_type": "stream",
          "text": [
            "  Running command git clone --filter=blob:none --quiet https://github.com/facebookresearch/segment-anything.git 'C:\\Users\\Hello\\AppData\\Local\\Temp\\pip-req-build-pzn1l2pd'\n"
          ]
        },
        {
          "name": "stdout",
          "output_type": "stream",
          "text": [
            "Defaulting to user installation because normal site-packages is not writeable\n",
            "Collecting git+https://github.com/openai/CLIP.git\n",
            "  Cloning https://github.com/openai/CLIP.git to c:\\users\\hello\\appdata\\local\\temp\\pip-req-build-ina14zj0\n",
            "  Resolved https://github.com/openai/CLIP.git to commit dcba3cb2e2827b402d2701e7e1c7d9fed8a20ef1\n",
            "  Preparing metadata (setup.py): started\n",
            "  Preparing metadata (setup.py): finished with status 'done'\n",
            "Requirement already satisfied: ftfy in c:\\users\\hello\\appdata\\roaming\\python\\python311\\site-packages (6.3.1)\n",
            "Requirement already satisfied: regex in c:\\programdata\\anaconda3\\lib\\site-packages (2023.10.3)\n",
            "Requirement already satisfied: packaging in c:\\programdata\\anaconda3\\lib\\site-packages (from clip==1.0) (23.1)\n",
            "Requirement already satisfied: tqdm in c:\\programdata\\anaconda3\\lib\\site-packages (from clip==1.0) (4.65.0)\n",
            "Requirement already satisfied: torch in c:\\users\\hello\\appdata\\roaming\\python\\python311\\site-packages (from clip==1.0) (2.8.0)\n",
            "Requirement already satisfied: torchvision in c:\\users\\hello\\appdata\\roaming\\python\\python311\\site-packages (from clip==1.0) (0.23.0)\n",
            "Requirement already satisfied: wcwidth in c:\\programdata\\anaconda3\\lib\\site-packages (from ftfy) (0.2.5)\n",
            "Requirement already satisfied: filelock in c:\\programdata\\anaconda3\\lib\\site-packages (from torch->clip==1.0) (3.13.1)\n",
            "Requirement already satisfied: typing-extensions>=4.10.0 in c:\\users\\hello\\appdata\\roaming\\python\\python311\\site-packages (from torch->clip==1.0) (4.14.1)\n",
            "Requirement already satisfied: sympy>=1.13.3 in c:\\users\\hello\\appdata\\roaming\\python\\python311\\site-packages (from torch->clip==1.0) (1.14.0)\n",
            "Requirement already satisfied: networkx in c:\\programdata\\anaconda3\\lib\\site-packages (from torch->clip==1.0) (3.1)\n",
            "Requirement already satisfied: jinja2 in c:\\programdata\\anaconda3\\lib\\site-packages (from torch->clip==1.0) (3.1.3)\n",
            "Requirement already satisfied: fsspec in c:\\programdata\\anaconda3\\lib\\site-packages (from torch->clip==1.0) (2023.10.0)\n",
            "Requirement already satisfied: numpy in c:\\users\\hello\\appdata\\roaming\\python\\python311\\site-packages (from torchvision->clip==1.0) (2.2.6)\n",
            "Requirement already satisfied: pillow!=8.3.*,>=5.3.0 in c:\\programdata\\anaconda3\\lib\\site-packages (from torchvision->clip==1.0) (10.2.0)\n",
            "Requirement already satisfied: colorama in c:\\programdata\\anaconda3\\lib\\site-packages (from tqdm->clip==1.0) (0.4.6)\n",
            "Requirement already satisfied: mpmath<1.4,>=1.1.0 in c:\\programdata\\anaconda3\\lib\\site-packages (from sympy>=1.13.3->torch->clip==1.0) (1.3.0)\n",
            "Requirement already satisfied: MarkupSafe>=2.0 in c:\\programdata\\anaconda3\\lib\\site-packages (from jinja2->torch->clip==1.0) (2.1.3)\n"
          ]
        },
        {
          "name": "stderr",
          "output_type": "stream",
          "text": [
            "  Running command git clone --filter=blob:none --quiet https://github.com/openai/CLIP.git 'C:\\Users\\Hello\\AppData\\Local\\Temp\\pip-req-build-ina14zj0'\n"
          ]
        },
        {
          "name": "stdout",
          "output_type": "stream",
          "text": [
            "Defaulting to user installation because normal site-packages is not writeable\n",
            "Requirement already satisfied: opencv-contrib-python in c:\\users\\hello\\appdata\\roaming\\python\\python311\\site-packages (4.12.0.88)\n",
            "Requirement already satisfied: numpy<2.3.0,>=2 in c:\\users\\hello\\appdata\\roaming\\python\\python311\\site-packages (from opencv-contrib-python) (2.2.6)\n"
          ]
        }
      ],
      "source": [
        "# 1. Core PyTorch first\n",
        "!pip install torch torchvision --index-url https://download.pytorch.org/whl/cu118  \n",
        "\n",
        "# 2. Utility libs\n",
        "!pip install matplotlib timm\n",
        "\n",
        "# 3. Segment Anything\n",
        "!pip install git+https://github.com/facebookresearch/segment-anything.git\n",
        "\n",
        "\n",
        "# 4. CLIP\n",
        "!pip install ftfy regex\n",
        "\n",
        "# 5. OpenCV (with contrib modules for tracker)\n",
        "!pip install opencv-contrib-python\n",
        "\n"
      ]
    },
    {
      "cell_type": "code",
      "execution_count": null,
      "metadata": {},
      "outputs": [],
      "source": [
        "import os\n",
        "import numpy as np\n",
        "import cv2\n",
        "import torch\n",
        "import timm\n",
        "from segment_anything import sam_model_registry, SamPredictor\n",
        "import timm\n",
        "import torch.nn as nn\n",
        "import torchvision.transforms as T\n",
        "from PIL import Image\n"
      ]
    },
    {
      "cell_type": "code",
      "execution_count": 3,
      "metadata": {
        "colab": {
          "base_uri": "https://localhost:8080/"
        },
        "id": "XDkZprEhn7gq",
        "outputId": "9d2ed40c-d6f2-4460-a44e-e6ffe537a908"
      },
      "outputs": [
        {
          "name": "stderr",
          "output_type": "stream",
          "text": [
            "  % Total    % Received % Xferd  Average Speed   Time    Time     Time  Current\n",
            "                                 Dload  Upload   Total   Spent    Left  Speed\n",
            "\n",
            "  0     0    0     0    0     0      0      0 --:--:-- --:--:-- --:--:--     0\n",
            "  0  357M    0 1485k    0     0  1805k      0  0:03:22 --:--:--  0:03:22 1824k\n",
            "  1  357M    1 4152k    0     0  2324k      0  0:02:37  0:00:01  0:02:36 2336k\n",
            "  2  357M    2 8344k    0     0  3084k      0  0:01:58  0:00:02  0:01:56 3093k\n",
            "  3  357M    3 11.4M    0     0  3171k      0  0:01:55  0:00:03  0:01:52 3179k\n",
            "  3  357M    3 14.1M    0     0  3082k      0  0:01:58  0:00:04  0:01:54 3088k\n",
            "  4  357M    4 17.3M    0     0  3111k      0  0:01:57  0:00:05  0:01:52 3331k\n",
            "  5  357M    5 20.4M    0     0  3128k      0  0:01:57  0:00:06  0:01:51 3420k\n",
            "  6  357M    6 23.6M    0     0  3152k      0  0:01:56  0:00:07  0:01:49 3188k\n",
            "  7  357M    7 26.8M    0     0  3154k      0  0:01:56  0:00:08  0:01:48 3143k\n",
            "  8  357M    8 29.6M    0     0  3131k      0  0:01:56  0:00:09  0:01:47 3178k\n",
            "  8  357M    8 31.7M    0     0  3037k      0  0:02:00  0:00:10  0:01:50 2953k\n",
            "  9  357M    9 34.0M    0     0  2975k      0  0:02:03  0:00:11  0:01:52 2770k\n",
            " 10  357M   10 36.6M    0     0  2953k      0  0:02:03  0:00:12  0:01:51 2647k\n",
            " 11  357M   11 39.3M    0     0  2941k      0  0:02:04  0:00:13  0:01:51 2570k\n",
            " 11  357M   11 42.3M    0     0  2949k      0  0:02:04  0:00:14  0:01:50 2594k\n",
            " 12  357M   12 45.5M    0     0  2972k      0  0:02:03  0:00:15  0:01:48 2833k\n",
            " 13  357M   13 49.2M    0     0  3021k      0  0:02:01  0:00:16  0:01:45 3127k\n",
            " 14  357M   14 52.9M    0     0  3065k      0  0:01:59  0:00:17  0:01:42 3349k\n",
            " 15  357M   15 56.4M    0     0  3093k      0  0:01:58  0:00:18  0:01:40 3508k\n",
            " 16  357M   16 60.2M    0     0  3129k      0  0:01:57  0:00:19  0:01:38 3660k\n",
            " 17  357M   17 63.8M    0     0  3156k      0  0:01:56  0:00:20  0:01:36 3735k\n",
            " 18  357M   18 67.1M    0     0  3167k      0  0:01:55  0:00:21  0:01:34 3654k\n",
            " 19  357M   19 70.4M    0     0  3176k      0  0:01:55  0:00:22  0:01:33 3568k\n",
            " 20  357M   20 74.0M    0     0  3201k      0  0:01:54  0:00:23  0:01:31 3605k\n",
            " 21  357M   21 77.7M    0     0  3224k      0  0:01:53  0:00:24  0:01:29 3599k\n",
            " 22  357M   22 81.4M    0     0  3246k      0  0:01:52  0:00:25  0:01:27 3619k\n",
            " 23  357M   23 85.1M    0     0  3265k      0  0:01:52  0:00:26  0:01:26 3692k\n",
            " 24  357M   24 88.4M    0     0  3270k      0  0:01:52  0:00:27  0:01:25 3696k\n",
            " 25  357M   25 91.2M    0     0  3255k      0  0:01:52  0:00:28  0:01:24 3512k\n",
            " 26  357M   26 93.7M    0     0  3233k      0  0:01:53  0:00:29  0:01:24 3273k\n",
            " 26  357M   26 96.1M    0     0  3206k      0  0:01:54  0:00:30  0:01:24 2998k\n",
            " 27  357M   27 97.9M    0     0  3164k      0  0:01:55  0:00:31  0:01:24 2623k\n",
            " 28  357M   28  100M    0     0  3149k      0  0:01:56  0:00:32  0:01:24 2484k\n",
            " 28  357M   28  103M    0     0  3139k      0  0:01:56  0:00:33  0:01:23 2474k\n",
            " 29  357M   29  106M    0     0  3143k      0  0:01:56  0:00:34  0:01:22 2608k\n",
            " 30  357M   30  109M    0     0  3142k      0  0:01:56  0:00:35  0:01:21 2752k\n",
            " 31  357M   31  112M    0     0  3146k      0  0:01:56  0:00:36  0:01:20 3034k\n",
            " 32  357M   32  115M    0     0  3145k      0  0:01:56  0:00:37  0:01:19 3115k\n",
            " 33  357M   33  118M    0     0  3144k      0  0:01:56  0:00:38  0:01:18 3178k\n",
            " 34  357M   34  121M    0     0  3145k      0  0:01:56  0:00:39  0:01:17 3162k\n",
            " 34  357M   34  125M    0     0  3148k      0  0:01:56  0:00:40  0:01:16 3187k\n",
            " 35  357M   35  127M    0     0  3135k      0  0:01:56  0:00:41  0:01:15 3052k\n",
            " 36  357M   36  130M    0     0  3133k      0  0:01:56  0:00:42  0:01:14 3041k\n",
            " 37  357M   37  134M    0     0  3145k      0  0:01:56  0:00:43  0:01:13 3154k\n",
            " 38  357M   38  138M    0     0  3161k      0  0:01:55  0:00:44  0:01:11 3288k\n",
            " 39  357M   39  141M    0     0  3166k      0  0:01:55  0:00:45  0:01:10 3313k\n",
            " 40  357M   40  145M    0     0  3181k      0  0:01:55  0:00:46  0:01:09 3564k\n",
            " 41  357M   41  148M    0     0  3192k      0  0:01:54  0:00:47  0:01:07 3696k\n",
            " 42  357M   42  152M    0     0  3205k      0  0:01:54  0:00:48  0:01:06 3728k\n",
            " 43  357M   43  155M    0     0  3212k      0  0:01:53  0:00:49  0:01:04 3672k\n",
            " 44  357M   44  159M    0     0  3225k      0  0:01:53  0:00:50  0:01:03 3762k\n",
            " 45  357M   45  163M    0     0  3234k      0  0:01:53  0:00:51  0:01:02 3732k\n",
            " 46  357M   46  166M    0     0  3236k      0  0:01:53  0:00:52  0:01:01 3660k\n",
            " 47  357M   47  169M    0     0  3239k      0  0:01:53  0:00:53  0:01:00 3568k\n",
            " 48  357M   48  173M    0     0  3250k      0  0:01:52  0:00:54  0:00:58 3622k\n",
            " 49  357M   49  177M    0     0  3258k      0  0:01:52  0:00:55  0:00:57 3595k\n",
            " 50  357M   50  181M    0     0  3269k      0  0:01:52  0:00:56  0:00:56 3628k\n",
            " 51  357M   51  184M    0     0  3271k      0  0:01:51  0:00:57  0:00:54 3638k\n",
            " 52  357M   52  186M    0     0  3261k      0  0:01:52  0:00:58  0:00:54 3498k\n",
            " 52  357M   52  189M    0     0  3248k      0  0:01:52  0:00:59  0:00:53 3227k\n",
            " 53  357M   53  192M    0     0  3240k      0  0:01:53  0:01:00  0:00:53 3036k\n",
            " 54  357M   54  194M    0     0  3228k      0  0:01:53  0:01:01  0:00:52 2770k\n",
            " 54  357M   54  196M    0     0  3210k      0  0:01:54  0:01:02  0:00:52 2508k\n",
            " 56  357M   56  200M    0     0  3223k      0  0:01:53  0:01:03  0:00:50 2774k\n",
            " 57  357M   57  204M    0     0  3232k      0  0:01:53  0:01:04  0:00:49 3046k\n",
            " 58  357M   58  207M    0     0  3235k      0  0:01:53  0:01:05  0:00:48 3179k\n",
            " 59  357M   59  211M    0     0  3244k      0  0:01:52  0:01:06  0:00:46 3439k\n",
            " 60  357M   60  214M    0     0  3251k      0  0:01:52  0:01:07  0:00:45 3762k\n",
            " 61  357M   61  218M    0     0  3258k      0  0:01:52  0:01:08  0:00:44 3702k\n",
            " 62  357M   62  222M    0     0  3264k      0  0:01:52  0:01:09  0:00:43 3675k\n",
            " 63  357M   63  225M    0     0  3272k      0  0:01:51  0:01:10  0:00:41 3763k\n",
            " 64  357M   64  229M    0     0  3278k      0  0:01:51  0:01:11  0:00:40 3735k\n",
            " 65  357M   65  233M    0     0  3286k      0  0:01:51  0:01:12  0:00:39 3765k\n",
            " 66  357M   66  236M    0     0  3285k      0  0:01:51  0:01:13  0:00:38 3663k\n",
            " 67  357M   67  239M    0     0  3288k      0  0:01:51  0:01:14  0:00:37 3621k\n",
            " 67  357M   67  243M    0     0  3289k      0  0:01:51  0:01:15  0:00:36 3529k\n",
            " 68  357M   68  246M    0     0  3288k      0  0:01:51  0:01:16  0:00:35 3421k\n",
            " 69  357M   69  249M    0     0  3285k      0  0:01:51  0:01:17  0:00:34 3260k\n",
            " 70  357M   70  252M    0     0  3283k      0  0:01:51  0:01:18  0:00:33 3248k\n",
            " 71  357M   71  255M    0     0  3280k      0  0:01:51  0:01:19  0:00:32 3160k\n",
            " 72  357M   72  258M    0     0  3278k      0  0:01:51  0:01:20  0:00:31 3102k\n",
            " 73  357M   73  261M    0     0  3276k      0  0:01:51  0:01:21  0:00:30 3103k\n",
            " 73  357M   73  264M    0     0  3275k      0  0:01:51  0:01:22  0:00:29 3126k\n",
            " 74  357M   74  266M    0     0  3261k      0  0:01:52  0:01:23  0:00:29 2911k\n",
            " 75  357M   75  268M    0     0  3250k      0  0:01:52  0:01:24  0:00:28 2774k\n",
            " 76  357M   76  271M    0     0  3248k      0  0:01:52  0:01:25  0:00:27 2770k\n",
            " 76  357M   76  275M    0     0  3249k      0  0:01:52  0:01:26  0:00:26 2809k\n",
            " 77  357M   77  278M    0     0  3256k      0  0:01:52  0:01:27  0:00:25 2936k\n",
            " 78  357M   78  282M    0     0  3260k      0  0:01:52  0:01:28  0:00:24 3252k\n",
            " 79  357M   79  286M    0     0  3265k      0  0:01:52  0:01:29  0:00:23 3519k\n",
            " 81  357M   81  289M    0     0  3271k      0  0:01:51  0:01:30  0:00:21 3654k\n",
            " 82  357M   82  293M    0     0  3276k      0  0:01:51  0:01:31  0:00:20 3741k\n",
            " 83  357M   83  297M    0     0  3281k      0  0:01:51  0:01:32  0:00:19 3732k\n",
            " 83  357M   83  300M    0     0  3279k      0  0:01:51  0:01:33  0:00:18 3611k\n",
            " 85  357M   85  304M    0     0  3287k      0  0:01:51  0:01:34  0:00:17 3683k\n",
            " 86  357M   86  307M    0     0  3293k      0  0:01:51  0:01:35  0:00:16 3697k\n",
            " 86  357M   86  311M    0     0  3294k      0  0:01:51  0:01:36  0:00:15 3616k\n",
            " 88  357M   88  314M    0     0  3299k      0  0:01:51  0:01:37  0:00:14 3624k\n",
            " 89  357M   89  318M    0     0  3304k      0  0:01:50  0:01:38  0:00:12 3764k\n",
            " 90  357M   90  321M    0     0  3306k      0  0:01:50  0:01:39  0:00:11 3664k\n",
            " 90  357M   90  325M    0     0  3305k      0  0:01:50  0:01:40  0:00:10 3538k\n",
            " 91  357M   91  328M    0     0  3304k      0  0:01:50  0:01:41  0:00:09 3499k\n",
            " 92  357M   92  331M    0     0  3300k      0  0:01:50  0:01:42  0:00:08 3321k\n",
            " 93  357M   93  333M    0     0  3298k      0  0:01:51  0:01:43  0:00:08 3179k\n",
            " 93  357M   93  336M    0     0  3288k      0  0:01:51  0:01:44  0:00:07 2916k\n",
            " 94  357M   94  339M    0     0  3286k      0  0:01:51  0:01:45  0:00:06 2905k\n",
            " 95  357M   95  342M    0     0  3283k      0  0:01:51  0:01:46  0:00:05 2866k\n",
            " 96  357M   96  345M    0     0  3282k      0  0:01:51  0:01:47  0:00:04 2923k\n",
            " 97  357M   97  348M    0     0  3282k      0  0:01:51  0:01:48  0:00:03 2950k\n",
            " 98  357M   98  351M    0     0  3280k      0  0:01:51  0:01:49  0:00:02 3132k\n",
            " 99  357M   99  354M    0     0  3280k      0  0:01:51  0:01:50  0:00:01 3141k\n",
            "100  357M  100  357M    0     0  3280k      0  0:01:51  0:01:51 --:--:-- 3199k\n"
          ]
        }
      ],
      "source": [
        "!curl.exe -L \"https://dl.fbaipublicfiles.com/segment_anything/sam_vit_b_01ec64.pth\" -o \"sam_vit_b.pth\""
      ]
    },
    {
      "cell_type": "code",
      "execution_count": 4,
      "metadata": {
        "colab": {
          "base_uri": "https://localhost:8080/"
        },
        "id": "boK67lB_rPmR",
        "outputId": "3e0dbe24-0897-4368-8a8a-63ecb4574a79"
      },
      "outputs": [
        {
          "name": "stdout",
          "output_type": "stream",
          "text": [
            "True\n"
          ]
        }
      ],
      "source": [
        "import os\n",
        "print(os.path.exists(\"sam_vit_b.pth\"))  # Should be True\n"
      ]
    },
    {
      "cell_type": "code",
      "execution_count": 5,
      "metadata": {
        "id": "hHxIu7W2fCJl"
      },
      "outputs": [],
      "source": [
        "device = \"cuda\" if torch.cuda.is_available() else \"cpu\"\n",
        "\n",
        "# load model (point to the checkpoint you downloaded)\n",
        "sam = sam_model_registry[\"vit_b\"](checkpoint=\"sam_vit_b.pth\")\n",
        "sam.to(device)\n",
        "predictor = SamPredictor(sam)"
      ]
    },
    {
      "cell_type": "code",
      "execution_count": 18,
      "metadata": {},
      "outputs": [
        {
          "name": "stdout",
          "output_type": "stream",
          "text": [
            "Defaulting to user installation because normal site-packages is not writeable\n",
            "Collecting git+https://github.com/openai/CLIP.git\n",
            "  Cloning https://github.com/openai/CLIP.git to c:\\users\\hello\\appdata\\local\\temp\\pip-req-build-_fdp0qeb\n",
            "  Resolved https://github.com/openai/CLIP.git to commit dcba3cb2e2827b402d2701e7e1c7d9fed8a20ef1\n",
            "  Preparing metadata (setup.py): started\n",
            "  Preparing metadata (setup.py): finished with status 'done'\n",
            "Requirement already satisfied: ftfy in c:\\users\\hello\\appdata\\roaming\\python\\python311\\site-packages (from clip==1.0) (6.3.1)\n",
            "Requirement already satisfied: packaging in c:\\programdata\\anaconda3\\lib\\site-packages (from clip==1.0) (23.1)\n",
            "Requirement already satisfied: regex in c:\\programdata\\anaconda3\\lib\\site-packages (from clip==1.0) (2023.10.3)\n",
            "Requirement already satisfied: tqdm in c:\\programdata\\anaconda3\\lib\\site-packages (from clip==1.0) (4.65.0)\n",
            "Requirement already satisfied: torch in c:\\users\\hello\\appdata\\roaming\\python\\python311\\site-packages (from clip==1.0) (2.8.0)\n",
            "Requirement already satisfied: torchvision in c:\\users\\hello\\appdata\\roaming\\python\\python311\\site-packages (from clip==1.0) (0.23.0)\n",
            "Requirement already satisfied: wcwidth in c:\\programdata\\anaconda3\\lib\\site-packages (from ftfy->clip==1.0) (0.2.5)\n",
            "Requirement already satisfied: filelock in c:\\programdata\\anaconda3\\lib\\site-packages (from torch->clip==1.0) (3.13.1)\n",
            "Requirement already satisfied: typing-extensions>=4.10.0 in c:\\users\\hello\\appdata\\roaming\\python\\python311\\site-packages (from torch->clip==1.0) (4.14.1)\n",
            "Requirement already satisfied: sympy>=1.13.3 in c:\\users\\hello\\appdata\\roaming\\python\\python311\\site-packages (from torch->clip==1.0) (1.14.0)\n",
            "Requirement already satisfied: networkx in c:\\programdata\\anaconda3\\lib\\site-packages (from torch->clip==1.0) (3.1)\n",
            "Requirement already satisfied: jinja2 in c:\\programdata\\anaconda3\\lib\\site-packages (from torch->clip==1.0) (3.1.3)\n",
            "Requirement already satisfied: fsspec in c:\\programdata\\anaconda3\\lib\\site-packages (from torch->clip==1.0) (2023.10.0)\n",
            "Requirement already satisfied: numpy in c:\\users\\hello\\appdata\\roaming\\python\\python311\\site-packages (from torchvision->clip==1.0) (2.3.2)\n",
            "Requirement already satisfied: pillow!=8.3.*,>=5.3.0 in c:\\programdata\\anaconda3\\lib\\site-packages (from torchvision->clip==1.0) (10.2.0)\n",
            "Requirement already satisfied: colorama in c:\\programdata\\anaconda3\\lib\\site-packages (from tqdm->clip==1.0) (0.4.6)\n",
            "Requirement already satisfied: mpmath<1.4,>=1.1.0 in c:\\programdata\\anaconda3\\lib\\site-packages (from sympy>=1.13.3->torch->clip==1.0) (1.3.0)\n",
            "Requirement already satisfied: MarkupSafe>=2.0 in c:\\programdata\\anaconda3\\lib\\site-packages (from jinja2->torch->clip==1.0) (2.1.3)\n"
          ]
        },
        {
          "name": "stderr",
          "output_type": "stream",
          "text": [
            "  Running command git clone --filter=blob:none --quiet https://github.com/openai/CLIP.git 'C:\\Users\\Hello\\AppData\\Local\\Temp\\pip-req-build-_fdp0qeb'\n"
          ]
        }
      ],
      "source": [
        "# --------------------------\n",
        "# 2. CLIP (Option 3: re-implement + load weights)\n",
        "# --------------------------\n",
        "!pip install git+https://github.com/openai/CLIP.git\n",
        "clip_model, clip_preprocess = clip.load(\"ViT-B/32\", device=device)\n",
        "\n",
        "# import open_clip\n",
        "# clip_model, _, clip_preprocess = open_clip.create_model_and_transforms(\n",
        "#     'ViT-B-32', pretrained='openai'\n",
        "# )\n",
        "# clip_model = clip_model.eval().cuda()"
      ]
    },
    {
      "cell_type": "code",
      "execution_count": null,
      "metadata": {},
      "outputs": [],
      "source": [
        "clip_model = clip_model.eval().to(device)"
      ]
    },
    {
      "cell_type": "code",
      "execution_count": 20,
      "metadata": {},
      "outputs": [],
      "source": [
        "# --------------------------\n",
        "# 3. DINO (Option 3: re-implement + load weights)\n",
        "# --------------------------\n",
        "import timm\n",
        "dino_model = timm.create_model('vit_base_patch16_224', pretrained=True)\n",
        "dino_model.eval().to(device)\n",
        "\n",
        "# Preprocess for DINO\n",
        "dino_transform = T.Compose([\n",
        "    T.Resize((224, 224)),\n",
        "    T.ToTensor(),\n",
        "    T.Normalize((0.5,0.5,0.5), (0.5,0.5,0.5))\n",
        "])\n"
      ]
    },
    {
      "cell_type": "code",
      "execution_count": 22,
      "metadata": {},
      "outputs": [],
      "source": [
        "# --------------------------\n",
        "# Helper functions\n",
        "# --------------------------\n",
        "\n",
        "def get_sam_mask(image, click_point):\n",
        "    predictor.set_image(image)\n",
        "    masks, _, _ = predictor.predict(\n",
        "        point_coords=np.array([click_point]),\n",
        "        point_labels=np.array([1]),\n",
        "        multimask_output=False\n",
        "    )\n",
        "    return masks[0]\n",
        "\n",
        "def get_clip_score(segment_crop, text_query):\n",
        "    img_proc = clip_preprocess(segment_crop).unsqueeze(0).cuda()\n",
        "    text = open_clip.tokenize([text_query]).cuda()\n",
        "    with torch.no_grad():\n",
        "        img_feat = clip_model.encode_image(img_proc)\n",
        "        txt_feat = clip_model.encode_text(text)\n",
        "        img_feat /= img_feat.norm(dim=-1, keepdim=True)\n",
        "        txt_feat /= txt_feat.norm(dim=-1, keepdim=True)\n",
        "        score = (img_feat @ txt_feat.T).item()\n",
        "    return score\n",
        "\n",
        "def get_dino_score(segment_crop, ref_image):\n",
        "    img1 = dino_transform(segment_crop).unsqueeze(0).cuda()\n",
        "    img2 = dino_transform(ref_image).unsqueeze(0).cuda()\n",
        "    with torch.no_grad():\n",
        "        f1 = dino_model(img1)\n",
        "        f2 = dino_model(img2)\n",
        "        f1 /= f1.norm(dim=-1, keepdim=True)\n",
        "        f2 /= f2.norm(dim=-1, keepdim=True)\n",
        "        score = (f1 @ f2.T).item()\n",
        "    return score"
      ]
    },
    {
      "cell_type": "code",
      "execution_count": null,
      "metadata": {},
      "outputs": [],
      "source": [
        "# --------------------------\n",
        "# Interactive Part\n",
        "# --------------------------\n",
        "\n",
        "cap = cv2.VideoCapture(\"video.mp4\")  # or 0 for webcam\n",
        "ret, frame = cap.read()\n",
        "cap.release()\n",
        "\n",
        "image_rgb = cv2.cvtColor(frame, cv2.COLOR_BGR2RGB)\n",
        "Image.fromarray(image_rgb).show()  # display first frame\n",
        "\n",
        "# ---- Choose mode ----\n",
        "mode = widgets.Dropdown(\n",
        "    options=['Click', 'Text', 'Reference'],\n",
        "    description='Mode:',\n",
        ")\n",
        "display(mode)\n",
        "\n",
        "def run_segmentation(choice):\n",
        "    if choice == 'Click':\n",
        "        x = int(input(\"Enter X coordinate: \"))\n",
        "        y = int(input(\"Enter Y coordinate: \"))\n",
        "        mask = get_sam_mask(image_rgb, (x,y))\n",
        "        crop = Image.fromarray(image_rgb[y:y+mask.shape[0], x:x+mask.shape[1]])\n",
        "        display(crop)\n",
        "        print(\"Segmented object from click point.\")\n",
        "\n",
        "    elif choice == 'Text':\n",
        "        text_query = input(\"Enter text query: \")\n",
        "        # Take full image mask first (dummy click in center)\n",
        "        h,w,_ = image_rgb.shape\n",
        "        mask = get_sam_mask(image_rgb, (w//2,h//2))\n",
        "        x, y, w, h = cv2.boundingRect(mask.astype(np.uint8))\n",
        "        crop = Image.fromarray(image_rgb[y:y+h, x:x+w])\n",
        "        score = get_clip_score(crop, text_query)\n",
        "        display(crop)\n",
        "        print(f\"CLIP score for '{text_query}': {score:.4f}\")\n",
        "\n",
        "    elif choice == 'Reference':\n",
        "        uploader = widgets.FileUpload(accept='image/*', multiple=False)\n",
        "        display(uploader)\n",
        "        print(\"Upload a reference image, then rerun scoring cell.\")\n",
        "\n",
        "run_button = widgets.Button(description=\"Run Segmentation\")\n",
        "display(run_button)\n",
        "\n",
        "def on_click(b):\n",
        "    run_segmentation(mode.value)\n",
        "\n",
        "run_button.on_click(on_click)"
      ]
    }
  ],
  "metadata": {
    "colab": {
      "provenance": []
    },
    "kernelspec": {
      "display_name": "Python 3 (ipykernel)",
      "language": "python",
      "name": "python3"
    },
    "language_info": {
      "codemirror_mode": {
        "name": "ipython",
        "version": 3
      },
      "file_extension": ".py",
      "mimetype": "text/x-python",
      "name": "python",
      "nbconvert_exporter": "python",
      "pygments_lexer": "ipython3",
      "version": "3.11.7"
    }
  },
  "nbformat": 4,
  "nbformat_minor": 0
}
